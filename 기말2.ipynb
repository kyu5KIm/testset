{
 "cells": [
  {
   "cell_type": "markdown",
   "metadata": {},
   "source": [
    "학습을 위한 준비 사항 (환경 설정)\n",
    "YOLOv5 깃허브 클론\n",
    "필수 라이브러리 설치"
   ]
  },
  {
   "cell_type": "code",
   "execution_count": 1,
   "metadata": {},
   "outputs": [
    {
     "name": "stderr",
     "output_type": "stream",
     "text": [
      "fatal: destination path 'yolov5' already exists and is not an empty directory.\n"
     ]
    },
    {
     "name": "stdout",
     "output_type": "stream",
     "text": [
      "Requirement already satisfied: gitpython>=3.1.30 in c:\\users\\82102\\appdata\\local\\programs\\python\\python312\\lib\\site-packages (from -r requirements.txt (line 5)) (3.1.43)\n",
      "Requirement already satisfied: matplotlib>=3.3 in c:\\users\\82102\\appdata\\local\\programs\\python\\python312\\lib\\site-packages (from -r requirements.txt (line 6)) (3.9.0)\n",
      "Requirement already satisfied: numpy>=1.23.5 in c:\\users\\82102\\appdata\\local\\programs\\python\\python312\\lib\\site-packages (from -r requirements.txt (line 7)) (1.26.4)\n",
      "Requirement already satisfied: opencv-python>=4.1.1 in c:\\users\\82102\\appdata\\local\\programs\\python\\python312\\lib\\site-packages (from -r requirements.txt (line 8)) (4.10.0.82)\n",
      "Requirement already satisfied: pillow>=10.3.0 in c:\\users\\82102\\appdata\\local\\programs\\python\\python312\\lib\\site-packages (from -r requirements.txt (line 9)) (10.3.0)\n",
      "Requirement already satisfied: psutil in c:\\users\\82102\\appdata\\roaming\\python\\python312\\site-packages (from -r requirements.txt (line 10)) (5.9.8)\n",
      "Requirement already satisfied: PyYAML>=5.3.1 in c:\\users\\82102\\appdata\\local\\programs\\python\\python312\\lib\\site-packages (from -r requirements.txt (line 11)) (6.0.1)\n",
      "Requirement already satisfied: requests>=2.32.0 in c:\\users\\82102\\appdata\\local\\programs\\python\\python312\\lib\\site-packages (from -r requirements.txt (line 12)) (2.32.3)\n",
      "Requirement already satisfied: scipy>=1.4.1 in c:\\users\\82102\\appdata\\local\\programs\\python\\python312\\lib\\site-packages (from -r requirements.txt (line 13)) (1.13.1)\n",
      "Requirement already satisfied: thop>=0.1.1 in c:\\users\\82102\\appdata\\local\\programs\\python\\python312\\lib\\site-packages (from -r requirements.txt (line 14)) (0.1.1.post2209072238)\n",
      "Requirement already satisfied: torch>=1.8.0 in c:\\users\\82102\\appdata\\local\\programs\\python\\python312\\lib\\site-packages (from -r requirements.txt (line 15)) (2.3.1)\n",
      "Requirement already satisfied: torchvision>=0.9.0 in c:\\users\\82102\\appdata\\local\\programs\\python\\python312\\lib\\site-packages (from -r requirements.txt (line 16)) (0.18.1)\n",
      "Requirement already satisfied: tqdm>=4.64.0 in c:\\users\\82102\\appdata\\local\\programs\\python\\python312\\lib\\site-packages (from -r requirements.txt (line 17)) (4.66.4)\n",
      "Requirement already satisfied: ultralytics>=8.0.232 in c:\\users\\82102\\appdata\\local\\programs\\python\\python312\\lib\\site-packages (from -r requirements.txt (line 18)) (8.2.31)\n",
      "Requirement already satisfied: pandas>=1.1.4 in c:\\users\\82102\\appdata\\local\\programs\\python\\python312\\lib\\site-packages (from -r requirements.txt (line 27)) (2.2.2)\n",
      "Requirement already satisfied: seaborn>=0.11.0 in c:\\users\\82102\\appdata\\local\\programs\\python\\python312\\lib\\site-packages (from -r requirements.txt (line 28)) (0.13.2)\n",
      "Requirement already satisfied: setuptools>=65.5.1 in c:\\users\\82102\\appdata\\local\\programs\\python\\python312\\lib\\site-packages (from -r requirements.txt (line 42)) (70.0.0)\n",
      "Requirement already satisfied: wheel>=0.38.0 in c:\\users\\82102\\appdata\\local\\programs\\python\\python312\\lib\\site-packages (from -r requirements.txt (line 50)) (0.43.0)\n",
      "Requirement already satisfied: gitdb<5,>=4.0.1 in c:\\users\\82102\\appdata\\local\\programs\\python\\python312\\lib\\site-packages (from gitpython>=3.1.30->-r requirements.txt (line 5)) (4.0.11)\n",
      "Requirement already satisfied: contourpy>=1.0.1 in c:\\users\\82102\\appdata\\local\\programs\\python\\python312\\lib\\site-packages (from matplotlib>=3.3->-r requirements.txt (line 6)) (1.2.1)\n",
      "Requirement already satisfied: cycler>=0.10 in c:\\users\\82102\\appdata\\local\\programs\\python\\python312\\lib\\site-packages (from matplotlib>=3.3->-r requirements.txt (line 6)) (0.12.1)\n",
      "Requirement already satisfied: fonttools>=4.22.0 in c:\\users\\82102\\appdata\\local\\programs\\python\\python312\\lib\\site-packages (from matplotlib>=3.3->-r requirements.txt (line 6)) (4.53.0)\n",
      "Requirement already satisfied: kiwisolver>=1.3.1 in c:\\users\\82102\\appdata\\local\\programs\\python\\python312\\lib\\site-packages (from matplotlib>=3.3->-r requirements.txt (line 6)) (1.4.5)\n",
      "Requirement already satisfied: packaging>=20.0 in c:\\users\\82102\\appdata\\roaming\\python\\python312\\site-packages (from matplotlib>=3.3->-r requirements.txt (line 6)) (24.1)\n",
      "Requirement already satisfied: pyparsing>=2.3.1 in c:\\users\\82102\\appdata\\local\\programs\\python\\python312\\lib\\site-packages (from matplotlib>=3.3->-r requirements.txt (line 6)) (3.1.2)\n",
      "Requirement already satisfied: python-dateutil>=2.7 in c:\\users\\82102\\appdata\\roaming\\python\\python312\\site-packages (from matplotlib>=3.3->-r requirements.txt (line 6)) (2.9.0.post0)\n",
      "Requirement already satisfied: charset-normalizer<4,>=2 in c:\\users\\82102\\appdata\\local\\programs\\python\\python312\\lib\\site-packages (from requests>=2.32.0->-r requirements.txt (line 12)) (3.3.2)\n",
      "Requirement already satisfied: idna<4,>=2.5 in c:\\users\\82102\\appdata\\local\\programs\\python\\python312\\lib\\site-packages (from requests>=2.32.0->-r requirements.txt (line 12)) (3.7)\n",
      "Requirement already satisfied: urllib3<3,>=1.21.1 in c:\\users\\82102\\appdata\\local\\programs\\python\\python312\\lib\\site-packages (from requests>=2.32.0->-r requirements.txt (line 12)) (2.2.1)\n",
      "Requirement already satisfied: certifi>=2017.4.17 in c:\\users\\82102\\appdata\\local\\programs\\python\\python312\\lib\\site-packages (from requests>=2.32.0->-r requirements.txt (line 12)) (2024.6.2)\n",
      "Requirement already satisfied: filelock in c:\\users\\82102\\appdata\\local\\programs\\python\\python312\\lib\\site-packages (from torch>=1.8.0->-r requirements.txt (line 15)) (3.15.1)\n",
      "Requirement already satisfied: typing-extensions>=4.8.0 in c:\\users\\82102\\appdata\\local\\programs\\python\\python312\\lib\\site-packages (from torch>=1.8.0->-r requirements.txt (line 15)) (4.11.0)\n",
      "Requirement already satisfied: sympy in c:\\users\\82102\\appdata\\local\\programs\\python\\python312\\lib\\site-packages (from torch>=1.8.0->-r requirements.txt (line 15)) (1.12)\n",
      "Requirement already satisfied: networkx in c:\\users\\82102\\appdata\\local\\programs\\python\\python312\\lib\\site-packages (from torch>=1.8.0->-r requirements.txt (line 15)) (3.3)\n",
      "Requirement already satisfied: jinja2 in c:\\users\\82102\\appdata\\local\\programs\\python\\python312\\lib\\site-packages (from torch>=1.8.0->-r requirements.txt (line 15)) (3.1.4)\n",
      "Requirement already satisfied: fsspec in c:\\users\\82102\\appdata\\local\\programs\\python\\python312\\lib\\site-packages (from torch>=1.8.0->-r requirements.txt (line 15)) (2024.6.0)\n",
      "Requirement already satisfied: mkl<=2021.4.0,>=2021.1.1 in c:\\users\\82102\\appdata\\local\\programs\\python\\python312\\lib\\site-packages (from torch>=1.8.0->-r requirements.txt (line 15)) (2021.4.0)\n",
      "Requirement already satisfied: colorama in c:\\users\\82102\\appdata\\roaming\\python\\python312\\site-packages (from tqdm>=4.64.0->-r requirements.txt (line 17)) (0.4.6)\n",
      "Requirement already satisfied: py-cpuinfo in c:\\users\\82102\\appdata\\local\\programs\\python\\python312\\lib\\site-packages (from ultralytics>=8.0.232->-r requirements.txt (line 18)) (9.0.0)\n",
      "Requirement already satisfied: ultralytics-thop>=0.2.5 in c:\\users\\82102\\appdata\\local\\programs\\python\\python312\\lib\\site-packages (from ultralytics>=8.0.232->-r requirements.txt (line 18)) (0.2.8)\n",
      "Requirement already satisfied: pytz>=2020.1 in c:\\users\\82102\\appdata\\local\\programs\\python\\python312\\lib\\site-packages (from pandas>=1.1.4->-r requirements.txt (line 27)) (2024.1)\n",
      "Requirement already satisfied: tzdata>=2022.7 in c:\\users\\82102\\appdata\\local\\programs\\python\\python312\\lib\\site-packages (from pandas>=1.1.4->-r requirements.txt (line 27)) (2024.1)\n",
      "Requirement already satisfied: smmap<6,>=3.0.1 in c:\\users\\82102\\appdata\\local\\programs\\python\\python312\\lib\\site-packages (from gitdb<5,>=4.0.1->gitpython>=3.1.30->-r requirements.txt (line 5)) (5.0.1)\n",
      "Requirement already satisfied: intel-openmp==2021.* in c:\\users\\82102\\appdata\\local\\programs\\python\\python312\\lib\\site-packages (from mkl<=2021.4.0,>=2021.1.1->torch>=1.8.0->-r requirements.txt (line 15)) (2021.4.0)\n",
      "Requirement already satisfied: tbb==2021.* in c:\\users\\82102\\appdata\\local\\programs\\python\\python312\\lib\\site-packages (from mkl<=2021.4.0,>=2021.1.1->torch>=1.8.0->-r requirements.txt (line 15)) (2021.12.0)\n",
      "Requirement already satisfied: six>=1.5 in c:\\users\\82102\\appdata\\roaming\\python\\python312\\site-packages (from python-dateutil>=2.7->matplotlib>=3.3->-r requirements.txt (line 6)) (1.16.0)\n",
      "Requirement already satisfied: MarkupSafe>=2.0 in c:\\users\\82102\\appdata\\local\\programs\\python\\python312\\lib\\site-packages (from jinja2->torch>=1.8.0->-r requirements.txt (line 15)) (2.1.5)\n",
      "Requirement already satisfied: mpmath>=0.19 in c:\\users\\82102\\appdata\\local\\programs\\python\\python312\\lib\\site-packages (from sympy->torch>=1.8.0->-r requirements.txt (line 15)) (1.3.0)\n",
      "Note: you may need to restart the kernel to use updated packages.\n"
     ]
    }
   ],
   "source": [
    "import os\n",
    "import sys\n",
    "\n",
    "# YOLOv5 클론 및 설치\n",
    "!git clone https://github.com/ultralytics/yolov5\n",
    "os.chdir('yolov5')\n",
    "%pip install -r requirements.txt\n",
    "\n",
    "# YOLOv5 디렉토리를 sys.path에 추가\n",
    "sys.path.append(os.getcwd())"
   ]
  },
  {
   "cell_type": "markdown",
   "metadata": {},
   "source": [
    "데이터셋 준비"
   ]
  },
  {
   "cell_type": "code",
   "execution_count": 6,
   "metadata": {},
   "outputs": [
    {
     "name": "stdout",
     "output_type": "stream",
     "text": [
      "Data path exists: True\n",
      "Data path contents: ['face_mask', 'test', 'train', 'val']\n",
      "Train path exists: True\n",
      "Val path exists: True\n",
      "Test path exists: True\n",
      "Train images: []\n",
      "Train labels: []\n",
      "Val images: []\n",
      "Val labels: []\n",
      "Test images: []\n",
      "Test labels: []\n",
      "Dataset preparation complete.\n",
      "Image preprocessing complete.\n"
     ]
    }
   ],
   "source": [
    "import os\n",
    "import random\n",
    "import shutil\n",
    "import cv2\n",
    "\n",
    "# 원본 데이터 경로 설정\n",
    "data_path = r'.\\face_mask'\n",
    "\n",
    "# 학습, 검증, 테스트 데이터셋 경로 설정\n",
    "train_path = os.path.join(data_path, 'train')\n",
    "val_path = os.path.join(data_path, 'val')\n",
    "test_path = os.path.join(data_path, 'test')\n",
    "\n",
    "# 각 폴더가 존재하는지 확인하고, 없으면 생성\n",
    "for path in [train_path, val_path, test_path]:\n",
    "    images_path = os.path.join(path, 'images')\n",
    "    labels_path = os.path.join(path, 'labels')\n",
    "    if not os.path.exists(images_path):\n",
    "        os.makedirs(images_path)\n",
    "    if not os.path.exists(labels_path):\n",
    "        os.makedirs(labels_path)\n",
    "\n",
    "# 원본 데이터 경로 확인\n",
    "print(f\"Data path exists: {os.path.exists(data_path)}\")\n",
    "print(f\"Data path contents: {os.listdir(data_path)}\")\n",
    "\n",
    "# 데이터 파일 리스트 가져오기 (이미지와 레이블 파일을 별도로 가져오기)\n",
    "image_files = [f for f in os.listdir(data_path) if f.endswith('.png')]\n",
    "label_files = [f.replace('.png', '.txt') for f in image_files]\n",
    "\n",
    "# 데이터 섞기\n",
    "data = list(zip(image_files, label_files))\n",
    "random.shuffle(data)\n",
    "\n",
    "# 데이터 분할 비율 설정\n",
    "train_ratio = 0.6\n",
    "val_ratio = 0.2\n",
    "test_ratio = 0.2\n",
    "\n",
    "# 데이터 분할\n",
    "train_data = data[:int(train_ratio * len(data))]\n",
    "val_data = data[int(train_ratio * len(data)):int((train_ratio + val_ratio) * len(data))]\n",
    "test_data = data[int((train_ratio + val_ratio) * len(data)):]\n",
    "\n",
    "# 파일 복사 함수\n",
    "def copy_files(data, data_type):\n",
    "    for img, lbl in data:\n",
    "        shutil.copy(os.path.join(data_path, img), os.path.join(data_path, data_type, 'images', img))\n",
    "        shutil.copy(os.path.join(data_path, lbl), os.path.join(data_path, data_type, 'labels', lbl))\n",
    "\n",
    "# 파일 복사\n",
    "copy_files(train_data, 'train')\n",
    "copy_files(val_data, 'val')\n",
    "copy_files(test_data, 'test')\n",
    "\n",
    "# 폴더 구조 확인\n",
    "print(f\"Train path exists: {os.path.exists(train_path)}\")\n",
    "print(f\"Val path exists: {os.path.exists(val_path)}\")\n",
    "print(f\"Test path exists: {os.path.exists(test_path)}\")\n",
    "\n",
    "# 각 폴더 내 파일 확인\n",
    "print(f\"Train images: {os.listdir(os.path.join(train_path, 'images'))[:5]}\")\n",
    "print(f\"Train labels: {os.listdir(os.path.join(train_path, 'labels'))[:5]}\")\n",
    "print(f\"Val images: {os.listdir(os.path.join(val_path, 'images'))[:5]}\")\n",
    "print(f\"Val labels: {os.listdir(os.path.join(val_path, 'labels'))[:5]}\")\n",
    "print(f\"Test images: {os.listdir(os.path.join(test_path, 'images'))[:5]}\")\n",
    "print(f\"Test labels: {os.listdir(os.path.join(test_path, 'labels'))[:5]}\")\n",
    "\n",
    "print('Dataset preparation complete.')\n",
    "\n",
    "# 이미지 전처리 함수\n",
    "def preprocess_image(image_path, output_path):\n",
    "    image = cv2.imread(image_path)\n",
    "    # 전처리 과정 예시: 리사이즈\n",
    "    image = cv2.resize(image, (416, 416))\n",
    "    cv2.imwrite(output_path, image)\n",
    "\n",
    "# train 이미지 전처리\n",
    "train_images = os.listdir(os.path.join(train_path, 'images'))\n",
    "for img in train_images:\n",
    "    preprocess_image(os.path.join(train_path, 'images', img),\n",
    "                     os.path.join(train_path, 'images', img))\n",
    "\n",
    "print('Image preprocessing complete.')\n"
   ]
  },
  {
   "cell_type": "markdown",
   "metadata": {},
   "source": [
    "YOLOv5 모델 학습"
   ]
  },
  {
   "cell_type": "code",
   "execution_count": null,
   "metadata": {},
   "outputs": [],
   "source": [
    "import torch\n",
    "from yolov5.train import run\n",
    "\n",
    "# 하이퍼파라미터 설정\n",
    "epochs = 100\n",
    "batch_size = 16\n",
    "learning_rate = 0.001\n",
    "\n",
    "# 모델 학습\n",
    "run(data=r'C:\\Users\\82102\\Desktop\\Artificial Intelligence Final Exam Alternative Project\\data.yaml', \n",
    "    epochs=epochs, \n",
    "    batch_size=batch_size, \n",
    "    lr0=learning_rate)"
   ]
  }
 ],
 "metadata": {
  "kernelspec": {
   "display_name": "Python 3",
   "language": "python",
   "name": "python3"
  },
  "language_info": {
   "codemirror_mode": {
    "name": "ipython",
    "version": 3
   },
   "file_extension": ".py",
   "mimetype": "text/x-python",
   "name": "python",
   "nbconvert_exporter": "python",
   "pygments_lexer": "ipython3",
   "version": "3.12.3"
  }
 },
 "nbformat": 4,
 "nbformat_minor": 2
}
